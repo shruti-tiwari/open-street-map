{
 "cells": [
  {
   "cell_type": "markdown",
   "metadata": {},
   "source": [
    "# <font color='blue' >OPEN STREET MAP PROJECT"
   ]
  },
  {
   "cell_type": "markdown",
   "metadata": {},
   "source": [
    "## Map area\n",
    "### San Fransisco, CA\n",
    "\n",
    " - https://www.openstreetmap.org/relation/396487\n",
    "  \n",
    "I chose San Fransisco for this project, as this is my favorite city in USA and working with familiar street names and places, reminds me of my beautiful trips there. I feel fortunate to contribute in improving the data of San Fransisco on Open Street map set.\n",
    "\n",
    "## Problems in the data:\n",
    " - __Overabbreviations in street names__ <br>\n",
    "     Rd.,St. ctr. etc.\n",
    "   <br>\n",
    " - __Inconsistencies in phone numbers__ <br>\n",
    " \n",
    "    1. non- uniformity in the format of phone numbers.\n",
    "    2. numbers with unicodes  \n",
    "    3. incorrect phone numbers- <br>\n",
    "       numbers with less than 10 digits, or too long like 20 digits\n",
    "   <br>\n",
    " - __Inconsistencies in city names__ <br>\n",
    "      There are total 446 unique entries for 'addr:city'.\n",
    "    1. Numbers instead of names e.g. '11720', '155',\n",
    "    2. first letter lower case e.g. san Mateo\n",
    "    3. all upper case e.g. 'SAN CARLOS'\n",
    "    4. non-uniform format e.g. for Oakland 7 different formats are entered.\n",
    "     OAKLAND',\n",
    "     'Oakland',\n",
    "     'Oakland ',\n",
    "     'Oakland CA',\n",
    "     'Oakland, CA',\n",
    "     'Oakland, Ca',\n",
    "     'Okaland' \n",
    "     <br>\n",
    " - __Inconsistencies in post codes__<br>\n",
    "     inconsistent post-codes <br>\n",
    "     CA 94607<br>\n",
    "     post codes containing letters e.g. <br>\n",
    "     M4E 2V5<br>\n",
    "     post codes not belonging to san fransisco area<br>\n",
    "     41907<br>\n",
    "     25426<br>\n",
    " \n",
    "   "
   ]
  },
  {
   "cell_type": "code",
   "execution_count": null,
   "metadata": {
    "collapsed": true
   },
   "outputs": [],
   "source": [
    "SELECT e.value, COUNT(*) as count \n",
    "FROM (SELECT * FROM nodes_tags \n",
    "UNION ALL \n",
    "SELECT * FROM ways_tags) e\n",
    "WHERE e.key='postcode'\n",
    "GROUP BY e.value\n",
    "ORDER BY count DESC;\n"
   ]
  },
  {
   "cell_type": "code",
   "execution_count": 10,
   "metadata": {},
   "outputs": [
    {
     "name": "stdout",
     "output_type": "stream",
     "text": [
      "\n"
     ]
    }
   ],
   "source": [
    "# This code creates a list of unique entries of cities in San fransisco map data.\n",
    "import xml.etree.cElementTree as ET\n",
    "from collections import defaultdict\n",
    "import re\n",
    "import pprint\n",
    "# functions gives the value attribute for the input element. \n",
    "def get_city(element):\n",
    "    return (element.attrib['v'])\n",
    "\n",
    "# This function takes the input osm file and parse them linewise to work on each \n",
    "#line at a time. It check's for city names in node and way tags and stores them in the set 'cities'.\n",
    "def process_map(filename):\n",
    "    cities=set()\n",
    "    for _, element in ET.iterparse(filename):\n",
    "        if element.tag==\"node\" or element.tag==\"way\":\n",
    "            for child in element:\n",
    "                # parsing for tag\n",
    "                if child.tag==\"tag\":\n",
    "                    # find key for city \n",
    "                    if child.attrib[\"k\"]==\"addr:city\":\n",
    "                            # add the city name to set cities\n",
    "                            cities.add(get_city(child))\n",
    "    return cities\n",
    "process_map('sfo.osm')\n",
    "\n"
   ]
  },
  {
   "cell_type": "markdown",
   "metadata": {},
   "source": [
    "## Data cleaning:\n",
    "In this project, I focused on cleaned street address data and phone number data. With little modification the codes can be used for cleaning city names and postal codes.\n",
    "<br>\n",
    " __Claning street names:__\n",
    "In order to clean the street address data, we collect all the irregularities in the data by using audit_street_type' function. As the output we get a dictionary containing irregular, incorrect and abbrevieted names as keya and their full names in correct format as their values.\n",
    "Further We use this dictionary and 'update_street_name' function for rectifying the inconsistencies in street names. "
   ]
  },
  {
   "cell_type": "code",
   "execution_count": null,
   "metadata": {
    "collapsed": true
   },
   "outputs": [],
   "source": [
    "#Code to audit street names. The output contains a \n",
    "#dictionary with unique entries of abbreviated names as keys and a list of full street names \n",
    "#as values.\n",
    "\n",
    "# this function inputs street name and \n",
    "def audit_street_type(street_types, street_name):\n",
    "    m = street_type_re.search(street_name)\n",
    "    if m:\n",
    "        street_type = m.group()\n",
    "        if street_type not in expected:\n",
    "            street_types[street_type].add(street_name)\n",
    "\n",
    "# outputs boolean \n",
    "def is_street_name(elem):\n",
    "    return (elem.attrib['k'] == \"addr:street\")\n",
    "\n",
    "\n",
    "def audit(osmfile):\n",
    "    osm_file = open(osmfile, \"r\")\n",
    "    street_types = defaultdict(set)\n",
    "    for event, elem in ET.iterparse(osm_file, events=(\"start\",)):\n",
    "\n",
    "        if elem.tag == \"node\" or elem.tag == \"way\":\n",
    "            for tag in elem.iter(\"tag\"):\n",
    "                if is_street_name(tag):\n",
    "                    audit_street_type(street_types, tag.attrib['v'])\n",
    "    osm_file.close()\n",
    "    return street_types"
   ]
  },
  {
   "cell_type": "code",
   "execution_count": 6,
   "metadata": {
    "collapsed": true
   },
   "outputs": [],
   "source": [
    "import csv\n",
    "import codecs\n",
    "import pprint\n",
    "import re\n",
    "import xml.etree.cElementTree as ET\n",
    "import cerberus\n",
    "import schema\n",
    "expected = [\"Street\", \"Avenue\", \"Boulevard\",\"Center\", \"Drive\", \"Court\", \"Place\",\"Plaza\",\"Suite\", \"Square\", \"Lane\", \"Road\", \n",
    "            \"Trail\", \"Parkway\", \"Commons\",\"Way\"]\n",
    "\n",
    "# mapping variable used in update_streetname function\n",
    "mapping = { \n",
    "            \"Ave\": \"Avenue\",\n",
    "            \"Ave.\": \"Avenue\",\n",
    "            \"Blvd\": \"Boulevard\",\n",
    "            \"Blvd.\": \"Boulevard\",\n",
    "            \"Ct\" : \"Court\",\n",
    "            \"Ct.\":\"Court\",\n",
    "            \"Ctr\" :\"Center\",\n",
    "            \"Ctr.\" :\"Center\",\n",
    "            \"Dr\": \"Drive\",\n",
    "            \"Dr.\" : \"Drive\",\n",
    "            \"Ln\" : \"Lane\",\n",
    "            \"Ln.\" : \"Lane\",\n",
    "            \"Plz\" :\"Plaza\",\n",
    "            \"Plz.\" :\"Plaza\",\n",
    "            \"Rd.\":\"Road\",\n",
    "            \"Rd\":\"Road\",\n",
    "            \"Sq\" : \"Square\",\n",
    "            \"Sq.\" : \"Square\",\n",
    "            \"St\": \"Street\",\n",
    "            \"St.\": \"Street\",\n",
    "            \"st\" : \"Street\",\n",
    "            \"st.\" : \"Street\",\n",
    "            \"Ste\" : \"Suite\",\n",
    "            \"Ste.\" : \"Suite\",\n",
    "            }\n",
    "def update_street_name(name, mapping):\n",
    "    newname=\"\"\n",
    "    text=name.split(\" \")\n",
    "    \n",
    "    for i in range(len(text)):\n",
    "        if text[i] in mapping:\n",
    "            #print(text[i])\n",
    "            text[i]=mapping[text[i]]\n",
    "            break   \n",
    "        \n",
    "    for i in range(len(text)):\n",
    "        newname=newname+' ' + text[i]\n",
    "    return newname.strip()\n"
   ]
  },
  {
   "cell_type": "markdown",
   "metadata": {},
   "source": [
    " __Cleaning Phone numbers:__\n",
    "In order to clean the non-uniformity in phone numbers, all phone numbers are converted in +X (XXX) XXX-XXXX format.\n",
    "and \n",
    "the numbers with extensions are converted in to \n",
    "+X (XXX) XXX-XXXX ext. XXXX <br>\n",
    "The unintelligible numbers have been removed and assigned with the value \"No Phone Number\".   "
   ]
  },
  {
   "cell_type": "code",
   "execution_count": 8,
   "metadata": {
    "collapsed": true
   },
   "outputs": [],
   "source": [
    "# Regex to allow the phone number in accepted format.\n",
    "phone_number_re=re.compile(r'^\\+1\\s\\([0-9]{3}\\)\\s[0-9]{3}\\-[0-9]{4}$')\n",
    "\n",
    "# usig regex phone_number_re following function compares the input number with regex \n",
    "#and outputs boolean value True or False if the number is in accepted format or not respectively\n",
    "def audit_pn_type(number):\n",
    "    # search in regex whether number is in accepted format.\n",
    "    m = phone_number_re.search(number)\n",
    "    if m:        \n",
    "        return True\n",
    "    else:\n",
    "        return False\n",
    "    \n",
    "# Following function checks whether input number has an extension or not.\n",
    "def check_ext(numeric):\n",
    "    if len(numeric)>10 and len(numeric)<16:\n",
    "        return True\n",
    "# function extracts the numeric data from the number removing any -, ., or letters etc.    \n",
    "def get_numeric(s):\n",
    "    return str(filter(str.isdigit,s))\n",
    "# main function inputs number in different format and outputs in accepted format.\n",
    "def update_number(wrong_number):\n",
    "    # if the number is in unicode \n",
    "    if(isinstance(wrong_number,unicode)):\n",
    "        #convert it to string\n",
    "        wrong_number = wrong_number.encode('utf-8')\n",
    "    # keep only numerics of the string wrong_number\n",
    "    numeric=get_numeric(wrong_number)\n",
    "    # remove country code '1' if any\n",
    "    if len(numeric)==11 and numeric.startswith('1'):\n",
    "        numeric=numeric[1:]\n",
    "    # if number has extension put in extension format.\n",
    "    if check_ext(numeric):\n",
    "        newnumber='+1 ({}) {}-{} ext. {}'.format(numeric[0:3], numeric[3:6], numeric[6:10],numeric[10:])\n",
    "        return newnumber\n",
    "    # if number is valid i.e. it has 10 digits convert it in acceptable format.\n",
    "    elif len(numeric)==10:\n",
    "        newnumber='+1 ({}) {}-{}'.format(numeric[0:3], numeric[3:6], numeric[6:])\n",
    "        return newnumber\n",
    "    # if number does not fall in to any of above criterea remove it and put \"no phone number\" instead.\n",
    "    else: \n",
    "        newnumber=\"No Phone Number\"\n",
    "        return newnumber"
   ]
  },
  {
   "cell_type": "markdown",
   "metadata": {},
   "source": [
    "\n",
    "# <font color='blue'> Data Overview\n",
    "This section provide s the size of files, some statistics based on sfo.osm file along with the SQL queries used to derive them.\n",
    "\n",
    "## Files size-\n",
    "sfo.osm: 1.41 gb <br>\n",
    "nodes.csv : 557 mb <br>\n",
    "nodes_tags.csv : 9.7 mb<br>\n",
    "ways.csv : 50 mb <br>\n",
    "ways_tags.csv: 60.3 mb <br>\n",
    "ways_nodes.csv : 189.6 mb <br>\n",
    "sfo.db : 992 mb \n",
    "\n",
    "## List of tags:\n",
    "\n",
    "{'osm': 1, 'bounds': 1, 'node': 6640188, 'tag': 2067037, 'way': 827664, 'nd': 7885162, 'relation': 7830, 'member': 63494}\n",
    "\n",
    "\n",
    "## Number of nodes:\n",
    "\n",
    "\n",
    "\n"
   ]
  },
  {
   "cell_type": "code",
   "execution_count": null,
   "metadata": {
    "collapsed": true
   },
   "outputs": [],
   "source": [
    "SELECT count(*) \n",
    "FROM nodes; \n"
   ]
  },
  {
   "cell_type": "markdown",
   "metadata": {},
   "source": [
    "### Output:\n",
    "6640188<br>"
   ]
  },
  {
   "cell_type": "markdown",
   "metadata": {},
   "source": [
    "\n",
    "\n",
    "## Number of ways:\n",
    "SELECT count(*) FROM ways;<br>\n",
    "### Output:\n",
    "827664\n",
    "## Number of unique users:\n",
    "SELECT count(distinct(u.uid)) FROM (SELECT  uid FROM nodes UNION ALL  SELECT uid FROM ways )u;\n",
    "### Output:\n",
    "2892\n",
    "\n",
    "## Top 10 contributing users\n",
    "\n",
    "\n"
   ]
  },
  {
   "cell_type": "code",
   "execution_count": null,
   "metadata": {
    "collapsed": true
   },
   "outputs": [],
   "source": [
    "SELECT count(u.id) as c, u.uid \n",
    "FROM \n",
    "(SELECT  uid, id FROM nodes UNION ALL  SELECT uid, id FROM ways )u \n",
    "GROUP BY u.uid  ORDER BY c DESC LIMIT 10 ;"
   ]
  },
  {
   "cell_type": "code",
   "execution_count": null,
   "metadata": {
    "collapsed": true
   },
   "outputs": [],
   "source": [
    "### Output:\n",
    "<table><tr><td><img src='top10.png'></td></tr></table>\n"
   ]
  },
  {
   "cell_type": "markdown",
   "metadata": {},
   "source": [
    "## The first user: \n",
    "\n",
    "\n"
   ]
  },
  {
   "cell_type": "code",
   "execution_count": null,
   "metadata": {
    "collapsed": true
   },
   "outputs": [],
   "source": [
    "SELECT t.user, t.uid, t.timestamp \n",
    "FROM (SELECT user, uid, timestamp \n",
    "FROM nodes \n",
    "UNION ALL \n",
    "SELECT user, uid, timestamp \n",
    "FROM ways) t \n",
    "ORDER BY \n",
    "t.timestamp \n",
    "ASC LIMIT 1;"
   ]
  },
  {
   "cell_type": "markdown",
   "metadata": {},
   "source": [
    "### Output:\n",
    "<table><tr><td><img src='first_user.png'></td></tr></table>"
   ]
  },
  {
   "cell_type": "markdown",
   "metadata": {},
   "source": [
    "\n",
    "\n",
    "## Total unique entries for phones\n"
   ]
  },
  {
   "cell_type": "code",
   "execution_count": null,
   "metadata": {
    "collapsed": true
   },
   "outputs": [],
   "source": [
    "SELECT COUNT(DISTINCT(k.value)) \n",
    "FROM (SELECT * FROM nodes_tags UNION ALL SELECT * FROM ways_tags)k\n",
    "WHERE k.key=='phone';"
   ]
  },
  {
   "cell_type": "markdown",
   "metadata": {},
   "source": [
    "### Output:\n",
    "3220\n",
    "## Total unique entries for postcodes"
   ]
  },
  {
   "cell_type": "code",
   "execution_count": null,
   "metadata": {
    "collapsed": true
   },
   "outputs": [],
   "source": [
    "SELECT COUNT(DISTINCT(k.value)) <br>\n",
    "FROM (SELECT * FROM nodes_tags UNION ALL SELECT * FROM ways_tags)k <br>\n",
    "WHERE k.key=='postcode';"
   ]
  },
  {
   "cell_type": "markdown",
   "metadata": {},
   "source": [
    "\n",
    "### Output:\n",
    "172\n",
    "## Top ten highest entries of post codes\n"
   ]
  },
  {
   "cell_type": "code",
   "execution_count": null,
   "metadata": {
    "collapsed": true
   },
   "outputs": [],
   "source": [
    "SELECT COUNT(k.id) as count, k.value  <br>\n",
    "FROM (SELECT * FROM nodes_tags UNION ALL SELECT * FROM ways_tags)k <br>\n",
    "GROUP BY k.value having k.key=='postcode' ORDER BY count DESC LIMIT 10;<br>"
   ]
  },
  {
   "cell_type": "markdown",
   "metadata": {},
   "source": [
    "### Output:\n",
    "<table><tr><td><img src='top10postcode.png'></td></tr></table>\n"
   ]
  },
  {
   "cell_type": "markdown",
   "metadata": {},
   "source": [
    "## Top 10 appearing amenities:\n",
    "SELECT  k.value, COUNT( *) as count<br>\n",
    " FROM <br>\n",
    " (SELECT * FROM nodes_tags <br>\n",
    " UNION ALL <br>\n",
    " SELECT * FROM ways_tags)k <br>\n",
    " GROUP BY k.value <br>\n",
    " HAVING k.key='amenity' <br>\n",
    " ORDER BY count <br>\n",
    " DESC LIMIT 10;\n",
    "\n",
    "### Output:\n",
    "\n",
    "<table><tr><td><img src='top10amenity.png'></td></tr></table>\n",
    "\n"
   ]
  },
  {
   "cell_type": "markdown",
   "metadata": {},
   "source": [
    "## Religions:"
   ]
  },
  {
   "cell_type": "code",
   "execution_count": null,
   "metadata": {
    "collapsed": true
   },
   "outputs": [],
   "source": [
    "SELECT nodes_tags.value, COUNT(*) as num\n",
    "FROM nodes_tags \n",
    "    JOIN (SELECT DISTINCT(id) FROM nodes_tags WHERE value='place_of_worship') i\n",
    "    ON nodes_tags.id=i.id\n",
    "WHERE nodes_tags.key='religion'\n",
    "GROUP BY nodes_tags.value\n",
    "ORDER BY num ASC;"
   ]
  },
  {
   "cell_type": "markdown",
   "metadata": {},
   "source": [
    "### Output:\n",
    "<table><tr><td><img src='religion.png'></td></tr></table> "
   ]
  },
  {
   "cell_type": "markdown",
   "metadata": {},
   "source": [
    "## Network:\n",
    "\n",
    "\n",
    "\n",
    "\n",
    "\n",
    " \n",
    "\n",
    "<table><tr><td><img src='station_name.png'></td></tr></table> "
   ]
  },
  {
   "cell_type": "code",
   "execution_count": null,
   "metadata": {
    "collapsed": true
   },
   "outputs": [],
   "source": [
    "SELECT DISTINCT(value) FROM NODES_TAGS WHERE key='network';"
   ]
  },
  {
   "cell_type": "markdown",
   "metadata": {},
   "source": [
    "### Output:"
   ]
  },
  {
   "cell_type": "code",
   "execution_count": null,
   "metadata": {
    "collapsed": true
   },
   "outputs": [],
   "source": [
    "\"BART\"\n",
    "\"Muni\"\n",
    "\"BART;Muni\"\n",
    "\"1AX, 18\"\n",
    "\"1AX\"\n",
    "\"1\"\n",
    "\"Caltrain\"\n",
    "\"SFO\"\n",
    "\"Marin Transit\"\n",
    "\"Caltrain;BART\"\n",
    "\"Ford GoBike\"\n",
    "\"Caltrain;Redi-Wheels\"\n",
    "\"Megabus\"\n",
    "\"1, 1AX\"\n",
    "\"1, 1AX, 18\"\n",
    "\"SamTrans\"\n",
    "\"zipcar\"\n",
    "\"Golden Gate Transit\"\n",
    "\"muni\"\n",
    "\"Golden Gate Tansit\"\n",
    "\"Clipper\"\n",
    "\"american express;cirrus;co-op;discover;mastercard;plus;pulse;visa\"\n",
    "\"AC Transit\"\n",
    "\"Co-Op ATM\"\n",
    "\"Union City Transit\"\n",
    "\"CO-OP\"\n",
    "\"MUNI\""
   ]
  },
  {
   "cell_type": "markdown",
   "metadata": {},
   "source": [
    "## Sort station names by count, descending:"
   ]
  },
  {
   "cell_type": "code",
   "execution_count": null,
   "metadata": {
    "collapsed": true
   },
   "outputs": [],
   "source": [
    "SELECT value, count(*) as count \n",
    "FROM nodes_tags \n",
    "GROUP BY value HAVING key='station_name' \n",
    "ORDER BY count DESC;"
   ]
  },
  {
   "cell_type": "markdown",
   "metadata": {},
   "source": [
    "### Output:\n",
    "<table><tr><td><img src='station_name.png'></td></tr></table>\n",
    "<br>\n",
    "## Ideas for additional improvements:\n",
    "\n",
    "One significant part in the cleaning of data is avoiding duplication and loss of data and that that can be improved by  standardizing the key inputs. for instance for post codes possible key inputs can be post-code, postcode, postal_code, zip-code, If the user could be restrained by inputting key values in standard way that can improve the quality by large. <br>\n",
    "Understandably, this is not an easy task, as there can be many correct notions for certain key. One way we can implement key restrainment is following.\n",
    "Each line that user inputs if it has attribute 'k' , it will be checked for data quality.\n",
    "As we have implemented a mapping dictionary for street name audit, we can create a dictionary containing possible variation of key words and their values be the acceptable key word. Let's say we use the standard term 'zip code'. If a user types a key 'postal_code' , it will automatically be input as 'zip code'.\n",
    "\n",
    "In San Fransisco most people use public transportation for their daily commutes as well as for tourism. Therefore, the improvements in the data related to public transport would be of tremendous use. The 'network' key has following entries. \n"
   ]
  },
  {
   "cell_type": "code",
   "execution_count": null,
   "metadata": {
    "collapsed": true
   },
   "outputs": [],
   "source": [
    "SELECT DISTINCT(value) \n",
    "FROM NODES_TAGS \n",
    "WHERE KEY='network';"
   ]
  },
  {
   "cell_type": "code",
   "execution_count": null,
   "metadata": {
    "collapsed": true
   },
   "outputs": [],
   "source": [
    "\"BART\"\n",
    "\"Muni\"\n",
    "\"BART;Muni\"\n",
    "\"1AX, 18\"\n",
    "\"1AX\"\n",
    "\"1\"\n",
    "\"Caltrain\"\n",
    "\"SFO\"\n",
    "\"Marin Transit\"\n",
    "\"Caltrain;BART\"\n",
    "\"Ford GoBike\"\n",
    "\"Caltrain;Redi-Wheels\"\n",
    "\"Megabus\"\n",
    "\"1, 1AX\"\n",
    "\"1, 1AX, 18\"\n",
    "\"SamTrans\"\n",
    "\"zipcar\"\n",
    "\"Golden Gate Transit\"\n",
    "\"muni\"\n",
    "\"Golden Gate Tansit\"\n",
    "\"Clipper\"\n",
    "\"american express;cirrus;co-op;discover;mastercard;plus;pulse;visa\"\n",
    "\"AC Transit\"\n",
    "\"Co-Op ATM\"\n",
    "\"Union City Transit\"\n",
    "\"CO-OP\"\n",
    "\"MUNI\""
   ]
  },
  {
   "cell_type": "markdown",
   "metadata": {},
   "source": [
    "I found that data related to cal-trains, barts and munis needs to be added and cleaned. Again half of this problem can be sorted by standardizing key inputs. Tourist attarctions can be a feature, that many people will find useful to explore."
   ]
  },
  {
   "cell_type": "code",
   "execution_count": null,
   "metadata": {
    "collapsed": true
   },
   "outputs": [],
   "source": [
    "SELECT nodes_tags.value \n",
    "FROM nodes_tags \n",
    "JOIN \n",
    "(SELECT id FROM nodes_tags\n",
    "WHERE value='attraction') e \n",
    "ON e.id=nodes_tags.id \n",
    "WHERE nodes_tags.key='name',LIMIT 10;"
   ]
  },
  {
   "cell_type": "code",
   "execution_count": null,
   "metadata": {
    "collapsed": true
   },
   "outputs": [],
   "source": [
    "\"Inspiration Point\"\n",
    "\"Fitzgerald Marine Reserve\"\n",
    "\"Little Farm\"\n",
    "\"Rotary Peace Grove\"\n",
    "\"Alcatraz Island\"\n",
    "\"Sather Gate\"\n",
    "\"Golden Gate Live Steamers\"\n",
    "\"Jepson Laurel\"\n",
    "\"Painted Ladies\"\n",
    "\"Pinchot Tree\""
   ]
  },
  {
   "cell_type": "code",
   "execution_count": null,
   "metadata": {
    "collapsed": true
   },
   "outputs": [],
   "source": [
    "For some reasons this data also include animal names as tourism attraction.\n",
    "Presuming that these datas are details of some zoo attractions list, \n",
    "it should not be kept with the 'k'='tourism','v'='attraction'."
   ]
  },
  {
   "cell_type": "markdown",
   "metadata": {
    "collapsed": true
   },
   "source": [
    "## Conclusion:\n",
    "The open street map data of city of San-Fransisco is vast and detailed and encorporates various aspects of this beautiful city. Still more cleaned data can be added for the utilization of tourists. In this project, I have cleaned the street address and phone number data. \n",
    "Still post codes, city names, network, railway datas require thorough cleaning. The data of tourist attractions is quite clean and uniform but still they have some entries that will not be qualified as tourist attraction of San Fransisco. \n",
    "<br>\n",
    "I did notice, standardizing the key values can help users to clean and analyze the data easily and will save a lot of time.\n"
   ]
  },
  {
   "cell_type": "code",
   "execution_count": null,
   "metadata": {
    "collapsed": true
   },
   "outputs": [],
   "source": []
  }
 ],
 "metadata": {
  "kernelspec": {
   "display_name": "Python [default]",
   "language": "python",
   "name": "python2"
  },
  "language_info": {
   "codemirror_mode": {
    "name": "ipython",
    "version": 2
   },
   "file_extension": ".py",
   "mimetype": "text/x-python",
   "name": "python",
   "nbconvert_exporter": "python",
   "pygments_lexer": "ipython2",
   "version": "2.7.13"
  }
 },
 "nbformat": 4,
 "nbformat_minor": 2
}
